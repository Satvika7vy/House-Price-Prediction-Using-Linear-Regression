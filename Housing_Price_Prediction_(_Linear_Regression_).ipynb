{
  "metadata": {
    "kernelspec": {
      "display_name": "Python 3",
      "language": "python",
      "name": "python3"
    },
    "language_info": {
      "name": "python",
      "version": "3.6.6",
      "mimetype": "text/x-python",
      "codemirror_mode": {
        "name": "ipython",
        "version": 3
      },
      "pygments_lexer": "ipython3",
      "nbconvert_exporter": "python",
      "file_extension": ".py"
    },
    "kaggle": {
      "accelerator": "none",
      "dataSources": [
        {
          "sourceId": 317933,
          "sourceType": "datasetVersion",
          "datasetId": 133734
        }
      ],
      "dockerImageVersionId": 22192,
      "isInternetEnabled": false,
      "language": "python",
      "sourceType": "notebook",
      "isGpuEnabled": false
    },
    "colab": {
      "name": "Housing Price Prediction ( Linear Regression )",
      "provenance": []
    }
  },
  "nbformat_minor": 0,
  "nbformat": 4,
  "cells": [
    {
      "source": [
        "\n",
        "# IMPORTANT: RUN THIS CELL IN ORDER TO IMPORT YOUR KAGGLE DATA SOURCES\n",
        "# TO THE CORRECT LOCATION (/kaggle/input) IN YOUR NOTEBOOK,\n",
        "# THEN FEEL FREE TO DELETE THIS CELL.\n",
        "# NOTE: THIS NOTEBOOK ENVIRONMENT DIFFERS FROM KAGGLE'S PYTHON\n",
        "# ENVIRONMENT SO THERE MAY BE MISSING LIBRARIES USED BY YOUR\n",
        "# NOTEBOOK.\n",
        "\n",
        "import os\n",
        "import sys\n",
        "from tempfile import NamedTemporaryFile\n",
        "from urllib.request import urlopen\n",
        "from urllib.parse import unquote, urlparse\n",
        "from urllib.error import HTTPError\n",
        "from zipfile import ZipFile\n",
        "import tarfile\n",
        "import shutil\n",
        "\n",
        "CHUNK_SIZE = 40960\n",
        "DATA_SOURCE_MAPPING = ':https%3A%2F%2Fstorage.googleapis.com%2Fkaggle-data-sets%2F133734%2F317933%2Fbundle%2Farchive.zip%3FX-Goog-Algorithm%3DGOOG4-RSA-SHA256%26X-Goog-Credential%3Dgcp-kaggle-com%2540kaggle-161607.iam.gserviceaccount.com%252F20240606%252Fauto%252Fstorage%252Fgoog4_request%26X-Goog-Date%3D20240606T130312Z%26X-Goog-Expires%3D259200%26X-Goog-SignedHeaders%3Dhost%26X-Goog-Signature%3D78b74ba31ab8e2cee1cdef4b17803ee1f875d7f994dc8b0cc22dee4284e4fc257fbe3cbe5552bfb3150222695f56a55e4a893242f3148323acca2ff64bb755ce62cbc9af6a60415473f32ffb0bbc8b6aa2dceac7989f7bd310f757559a2c10ed45bc81f510fd1227b5507fec7c6f40b24ae1cd4a4ad0f4970ece315d8cc772e6df8f00fe62f910f1677d0e4e11f9d5c936c76cc05b2b450c9e4e5fe41ff4bbcf3579ca041cc4271e835fc0a7b0042b14e2f5f7a17a878bcaabc6e0de2a188dda44563737b9070a825e4cff85b54c7367257f655a85c1795a02ead5a0dff9a48b943811305006c0796d52003e84f420dca703de701a91d8ec2fa822163c44aa69'\n",
        "\n",
        "KAGGLE_INPUT_PATH='/kaggle/input'\n",
        "KAGGLE_WORKING_PATH='/kaggle/working'\n",
        "KAGGLE_SYMLINK='kaggle'\n",
        "\n",
        "!umount /kaggle/input/ 2> /dev/null\n",
        "shutil.rmtree('/kaggle/input', ignore_errors=True)\n",
        "os.makedirs(KAGGLE_INPUT_PATH, 0o777, exist_ok=True)\n",
        "os.makedirs(KAGGLE_WORKING_PATH, 0o777, exist_ok=True)\n",
        "\n",
        "try:\n",
        "  os.symlink(KAGGLE_INPUT_PATH, os.path.join(\"..\", 'input'), target_is_directory=True)\n",
        "except FileExistsError:\n",
        "  pass\n",
        "try:\n",
        "  os.symlink(KAGGLE_WORKING_PATH, os.path.join(\"..\", 'working'), target_is_directory=True)\n",
        "except FileExistsError:\n",
        "  pass\n",
        "\n",
        "for data_source_mapping in DATA_SOURCE_MAPPING.split(','):\n",
        "    directory, download_url_encoded = data_source_mapping.split(':')\n",
        "    download_url = unquote(download_url_encoded)\n",
        "    filename = urlparse(download_url).path\n",
        "    destination_path = os.path.join(KAGGLE_INPUT_PATH, directory)\n",
        "    try:\n",
        "        with urlopen(download_url) as fileres, NamedTemporaryFile() as tfile:\n",
        "            total_length = fileres.headers['content-length']\n",
        "            print(f'Downloading {directory}, {total_length} bytes compressed')\n",
        "            dl = 0\n",
        "            data = fileres.read(CHUNK_SIZE)\n",
        "            while len(data) > 0:\n",
        "                dl += len(data)\n",
        "                tfile.write(data)\n",
        "                done = int(50 * dl / int(total_length))\n",
        "                sys.stdout.write(f\"\\r[{'=' * done}{' ' * (50-done)}] {dl} bytes downloaded\")\n",
        "                sys.stdout.flush()\n",
        "                data = fileres.read(CHUNK_SIZE)\n",
        "            if filename.endswith('.zip'):\n",
        "              with ZipFile(tfile) as zfile:\n",
        "                zfile.extractall(destination_path)\n",
        "            else:\n",
        "              with tarfile.open(tfile.name) as tarfile:\n",
        "                tarfile.extractall(destination_path)\n",
        "            print(f'\\nDownloaded and uncompressed: {directory}')\n",
        "    except HTTPError as e:\n",
        "        print(f'Failed to load (likely expired) {download_url} to path {destination_path}')\n",
        "        continue\n",
        "    except OSError as e:\n",
        "        print(f'Failed to load {download_url} to path {destination_path}')\n",
        "        continue\n",
        "\n",
        "print('Data source import complete.')\n"
      ],
      "metadata": {
        "id": "fYuJgl63pXyW",
        "outputId": "9c2dacfd-9224-4244-8bf7-ea4969bf1a7d",
        "colab": {
          "base_uri": "https://localhost:8080/"
        }
      },
      "cell_type": "code",
      "outputs": [
        {
          "output_type": "stream",
          "name": "stdout",
          "text": [
            "Downloading , 4740 bytes compressed\n",
            "\r[==================================================] 4740 bytes downloaded\n",
            "Downloaded and uncompressed: \n",
            "Data source import complete.\n"
          ]
        }
      ],
      "execution_count": 1
    },
    {
      "cell_type": "markdown",
      "source": [
        "# Housing Price Prediction Case Study"
      ],
      "metadata": {
        "_uuid": "9d30d8a6045a8b08aba09e2a3230c666bac821f1",
        "id": "Cdz0YZsqpXyi"
      }
    },
    {
      "cell_type": "markdown",
      "source": [
        "## Reading and Understanding the Data"
      ],
      "metadata": {
        "_uuid": "3436cb2bcf6466380cf2f43733f98c2112e43087",
        "id": "lL9XHdLxpXyr"
      }
    },
    {
      "cell_type": "code",
      "source": [
        "# Supress Warnings\n",
        "\n",
        "import warnings\n",
        "warnings.filterwarnings('ignore')\n",
        "\n",
        "# Import the numpy and pandas package\n",
        "\n",
        "import numpy as np\n",
        "import pandas as pd\n",
        "\n",
        "# Data Visualisation\n",
        "\n",
        "import matplotlib.pyplot as plt\n",
        "import seaborn as sns"
      ],
      "metadata": {
        "_uuid": "431b6c4e49b75ce7b04e909b83906dfd7b858959",
        "execution": {
          "iopub.status.busy": "2024-06-02T15:47:08.824115Z",
          "iopub.execute_input": "2024-06-02T15:47:08.824471Z",
          "iopub.status.idle": "2024-06-02T15:47:08.829411Z",
          "shell.execute_reply.started": "2024-06-02T15:47:08.824414Z",
          "shell.execute_reply": "2024-06-02T15:47:08.828468Z"
        },
        "trusted": true,
        "id": "pizJo0PnpXyr"
      },
      "execution_count": null,
      "outputs": []
    },
    {
      "cell_type": "code",
      "source": [
        "housing = pd.DataFrame(pd.read_csv(\"../input/Housing.csv\"))"
      ],
      "metadata": {
        "_uuid": "746ef6bc4fafc58e8a37083aaece63eb79bc2308",
        "execution": {
          "iopub.status.busy": "2024-06-02T15:47:08.831363Z",
          "iopub.execute_input": "2024-06-02T15:47:08.831631Z",
          "iopub.status.idle": "2024-06-02T15:47:08.860714Z",
          "shell.execute_reply.started": "2024-06-02T15:47:08.831586Z",
          "shell.execute_reply": "2024-06-02T15:47:08.859798Z"
        },
        "trusted": true,
        "id": "g8DXSYTipXyt"
      },
      "execution_count": null,
      "outputs": []
    },
    {
      "cell_type": "markdown",
      "source": [],
      "metadata": {
        "id": "oQOoB4inpXyu"
      }
    },
    {
      "cell_type": "code",
      "source": [
        "# Check the head of the dataset\n",
        "housing.head()"
      ],
      "metadata": {
        "_uuid": "d765ad0cca904b30124809f090959c1540dfe729",
        "execution": {
          "iopub.status.busy": "2024-06-02T15:47:08.93297Z",
          "iopub.execute_input": "2024-06-02T15:47:08.933318Z",
          "iopub.status.idle": "2024-06-02T15:47:08.969089Z",
          "shell.execute_reply.started": "2024-06-02T15:47:08.933254Z",
          "shell.execute_reply": "2024-06-02T15:47:08.96806Z"
        },
        "trusted": true,
        "id": "zwFM-OJPpXyu"
      },
      "execution_count": null,
      "outputs": []
    },
    {
      "cell_type": "markdown",
      "source": [
        "## Data Inspection"
      ],
      "metadata": {
        "_uuid": "97cd7a0c1ebdad167b71d99409ccfe9bbb0fd31f",
        "id": "f_kIhi0-pXyv"
      }
    },
    {
      "cell_type": "code",
      "source": [
        "housing.shape"
      ],
      "metadata": {
        "_uuid": "73b846cde866034ab84bfd5e2e3bb35f638b5ec8",
        "execution": {
          "iopub.status.busy": "2024-06-02T15:47:08.970694Z",
          "iopub.execute_input": "2024-06-02T15:47:08.970985Z",
          "iopub.status.idle": "2024-06-02T15:47:08.985767Z",
          "shell.execute_reply.started": "2024-06-02T15:47:08.970937Z",
          "shell.execute_reply": "2024-06-02T15:47:08.98479Z"
        },
        "trusted": true,
        "id": "x37FArO4pXyw"
      },
      "execution_count": null,
      "outputs": []
    },
    {
      "cell_type": "markdown",
      "source": [],
      "metadata": {
        "id": "k8ZfYwORpXyx"
      }
    },
    {
      "cell_type": "code",
      "source": [
        "housing.info()"
      ],
      "metadata": {
        "_uuid": "e1e2d0a71e1fa5d41dce0562b2d1aae8ed17e041",
        "execution": {
          "iopub.status.busy": "2024-06-02T15:47:08.987261Z",
          "iopub.execute_input": "2024-06-02T15:47:08.987535Z",
          "iopub.status.idle": "2024-06-02T15:47:09.002486Z",
          "shell.execute_reply.started": "2024-06-02T15:47:08.987488Z",
          "shell.execute_reply": "2024-06-02T15:47:09.001277Z"
        },
        "trusted": true,
        "id": "7KjfZjb8pXyy"
      },
      "execution_count": null,
      "outputs": []
    },
    {
      "cell_type": "code",
      "source": [
        "housing.describe()"
      ],
      "metadata": {
        "scrolled": true,
        "_uuid": "68e9fc5700d7192a76f8f0393dc02b6996db0d43",
        "execution": {
          "iopub.status.busy": "2024-06-02T15:47:09.060369Z",
          "iopub.execute_input": "2024-06-02T15:47:09.060716Z",
          "iopub.status.idle": "2024-06-02T15:47:09.106363Z",
          "shell.execute_reply.started": "2024-06-02T15:47:09.060656Z",
          "shell.execute_reply": "2024-06-02T15:47:09.105307Z"
        },
        "trusted": true,
        "id": "jkTvN26KpXyy"
      },
      "execution_count": null,
      "outputs": []
    },
    {
      "cell_type": "markdown",
      "source": [
        "## Data Cleaning"
      ],
      "metadata": {
        "_uuid": "0ca4cbb107bdc125987f0b734a1b8834b6d8c0a8",
        "id": "_bY2Dn1ipXyz"
      }
    },
    {
      "cell_type": "code",
      "source": [
        "# Checking Null values\n",
        "housing.isnull().sum()*100/housing.shape[0]\n",
        "# There are no NULL values in the dataset, hence it is clean."
      ],
      "metadata": {
        "_uuid": "3c78f79ff808df88d1ced4e944158375e2836f45",
        "execution": {
          "iopub.status.busy": "2024-06-02T15:47:09.108213Z",
          "iopub.execute_input": "2024-06-02T15:47:09.1086Z",
          "iopub.status.idle": "2024-06-02T15:47:09.119448Z",
          "shell.execute_reply.started": "2024-06-02T15:47:09.108528Z",
          "shell.execute_reply": "2024-06-02T15:47:09.118411Z"
        },
        "trusted": true,
        "id": "eiwd5fgLpXy0"
      },
      "execution_count": null,
      "outputs": []
    },
    {
      "cell_type": "code",
      "source": [
        "# Outlier Analysis\n",
        "fig, axs = plt.subplots(2,3, figsize = (10,5))\n",
        "plt1 = sns.boxplot(housing['price'], ax = axs[0,0])\n",
        "plt2 = sns.boxplot(housing['area'], ax = axs[0,1])\n",
        "plt3 = sns.boxplot(housing['bedrooms'], ax = axs[0,2])\n",
        "plt1 = sns.boxplot(housing['bathrooms'], ax = axs[1,0])\n",
        "plt2 = sns.boxplot(housing['stories'], ax = axs[1,1])\n",
        "plt3 = sns.boxplot(housing['parking'], ax = axs[1,2])\n",
        "\n",
        "plt.tight_layout()"
      ],
      "metadata": {
        "_uuid": "7ec7bfa83693e04422ea2de1fe2041aa75bccf51",
        "execution": {
          "iopub.status.busy": "2024-06-02T15:47:09.120845Z",
          "iopub.execute_input": "2024-06-02T15:47:09.121146Z",
          "iopub.status.idle": "2024-06-02T15:47:09.974569Z",
          "shell.execute_reply.started": "2024-06-02T15:47:09.121095Z",
          "shell.execute_reply": "2024-06-02T15:47:09.97336Z"
        },
        "trusted": true,
        "id": "dcB4P4kupXy0"
      },
      "execution_count": null,
      "outputs": []
    },
    {
      "cell_type": "code",
      "source": [
        "# Outlier Treatment\n",
        "# Price and area have considerable outliers.\n",
        "# We can drop the outliers as we have sufficient data."
      ],
      "metadata": {
        "_uuid": "4fbb9b35301a437698b221905aff7a421f6289b6",
        "execution": {
          "iopub.status.busy": "2024-06-02T15:47:09.976227Z",
          "iopub.execute_input": "2024-06-02T15:47:09.976798Z",
          "iopub.status.idle": "2024-06-02T15:47:09.981294Z",
          "shell.execute_reply.started": "2024-06-02T15:47:09.976735Z",
          "shell.execute_reply": "2024-06-02T15:47:09.980326Z"
        },
        "trusted": true,
        "id": "ld7c5FgBpXy1"
      },
      "execution_count": null,
      "outputs": []
    },
    {
      "cell_type": "code",
      "source": [
        "# outlier treatment for price\n",
        "plt.boxplot(housing.price)\n",
        "Q1 = housing.price.quantile(0.25)\n",
        "Q3 = housing.price.quantile(0.75)\n",
        "IQR = Q3 - Q1\n",
        "housing = housing[(housing.price >= Q1 - 1.5*IQR) & (housing.price <= Q3 + 1.5*IQR)]"
      ],
      "metadata": {
        "_uuid": "4dbc902628f39c3c5671287fb513966ee9946163",
        "execution": {
          "iopub.status.busy": "2024-06-02T15:47:09.982733Z",
          "iopub.execute_input": "2024-06-02T15:47:09.983336Z",
          "iopub.status.idle": "2024-06-02T15:47:10.177578Z",
          "shell.execute_reply.started": "2024-06-02T15:47:09.983265Z",
          "shell.execute_reply": "2024-06-02T15:47:10.1765Z"
        },
        "trusted": true,
        "id": "h2T-pI4qpXy2"
      },
      "execution_count": null,
      "outputs": []
    },
    {
      "cell_type": "code",
      "source": [
        "# outlier treatment for area\n",
        "plt.boxplot(housing.area)\n",
        "Q1 = housing.area.quantile(0.25)\n",
        "Q3 = housing.area.quantile(0.75)\n",
        "IQR = Q3 - Q1\n",
        "housing = housing[(housing.area >= Q1 - 1.5*IQR) & (housing.area <= Q3 + 1.5*IQR)]"
      ],
      "metadata": {
        "_uuid": "74ee9616b156d76319e82a8cbadd649aed6b3fff",
        "execution": {
          "iopub.status.busy": "2024-06-02T15:47:10.179139Z",
          "iopub.execute_input": "2024-06-02T15:47:10.179726Z",
          "iopub.status.idle": "2024-06-02T15:47:10.405331Z",
          "shell.execute_reply.started": "2024-06-02T15:47:10.179663Z",
          "shell.execute_reply": "2024-06-02T15:47:10.404301Z"
        },
        "trusted": true,
        "id": "6b42yDv8pXy3"
      },
      "execution_count": null,
      "outputs": []
    },
    {
      "cell_type": "code",
      "source": [
        "# Outlier Analysis\n",
        "fig, axs = plt.subplots(2,3, figsize = (10,5))\n",
        "plt1 = sns.boxplot(housing['price'], ax = axs[0,0])\n",
        "plt2 = sns.boxplot(housing['area'], ax = axs[0,1])\n",
        "plt3 = sns.boxplot(housing['bedrooms'], ax = axs[0,2])\n",
        "plt1 = sns.boxplot(housing['bathrooms'], ax = axs[1,0])\n",
        "plt2 = sns.boxplot(housing['stories'], ax = axs[1,1])\n",
        "plt3 = sns.boxplot(housing['parking'], ax = axs[1,2])\n",
        "\n",
        "plt.tight_layout()"
      ],
      "metadata": {
        "_uuid": "872f54e4de395aa921844f0b2fae5308a09235ae",
        "execution": {
          "iopub.status.busy": "2024-06-02T15:47:10.406798Z",
          "iopub.execute_input": "2024-06-02T15:47:10.407378Z",
          "iopub.status.idle": "2024-06-02T15:47:11.2705Z",
          "shell.execute_reply.started": "2024-06-02T15:47:10.407316Z",
          "shell.execute_reply": "2024-06-02T15:47:11.26933Z"
        },
        "trusted": true,
        "id": "0Kt1M3h4pXy4"
      },
      "execution_count": null,
      "outputs": []
    },
    {
      "cell_type": "markdown",
      "source": [
        "### Visualising Numeric Variables\n",
        "\n",
        "Let's make a pairplot of all the numeric variables"
      ],
      "metadata": {
        "_uuid": "cf330625f5e0fc1c93f752a8ba90bb2079c450b8",
        "id": "u9ZY6-yWpXy4"
      }
    },
    {
      "cell_type": "code",
      "source": [
        "sns.pairplot(housing)\n",
        "plt.show()"
      ],
      "metadata": {
        "_uuid": "6c7c7195228dbc64fb0bbd2545efc6041bb6024d",
        "execution": {
          "iopub.status.busy": "2024-06-02T15:47:11.272275Z",
          "iopub.execute_input": "2024-06-02T15:47:11.272653Z",
          "iopub.status.idle": "2024-06-02T15:47:16.360633Z",
          "shell.execute_reply.started": "2024-06-02T15:47:11.272593Z",
          "shell.execute_reply": "2024-06-02T15:47:16.359582Z"
        },
        "trusted": true,
        "id": "FxsKDiYfpXy4"
      },
      "execution_count": null,
      "outputs": []
    },
    {
      "cell_type": "code",
      "source": [
        "plt.figure(figsize=(20, 12))\n",
        "plt.subplot(2,3,1)\n",
        "sns.boxplot(x = 'mainroad', y = 'price', data = housing)\n",
        "plt.subplot(2,3,2)\n",
        "sns.boxplot(x = 'guestroom', y = 'price', data = housing)\n",
        "plt.subplot(2,3,3)\n",
        "sns.boxplot(x = 'basement', y = 'price', data = housing)\n",
        "plt.subplot(2,3,4)\n",
        "sns.boxplot(x = 'hotwaterheating', y = 'price', data = housing)\n",
        "plt.subplot(2,3,5)\n",
        "sns.boxplot(x = 'airconditioning', y = 'price', data = housing)\n",
        "plt.subplot(2,3,6)\n",
        "sns.boxplot(x = 'furnishingstatus', y = 'price', data = housing)\n",
        "plt.show()"
      ],
      "metadata": {
        "_uuid": "4c3608492e866165e76eff056ff792bbfd885844",
        "execution": {
          "iopub.status.busy": "2024-06-02T15:47:16.362661Z",
          "iopub.execute_input": "2024-06-02T15:47:16.363084Z",
          "iopub.status.idle": "2024-06-02T15:47:17.738732Z",
          "shell.execute_reply.started": "2024-06-02T15:47:16.363005Z",
          "shell.execute_reply": "2024-06-02T15:47:17.73786Z"
        },
        "trusted": true,
        "id": "lHxNK7YPpXy5"
      },
      "execution_count": null,
      "outputs": []
    },
    {
      "cell_type": "markdown",
      "source": [
        "We can also visualise some of these categorical features parallely by using the `hue` argument. Below is the plot for `furnishingstatus` with `airconditioning` as the hue."
      ],
      "metadata": {
        "_uuid": "6c707cb6e33e92c23ce7bc2e33fe6170cb6d8cd1",
        "id": "HOLfJbFJpXy5"
      }
    },
    {
      "cell_type": "code",
      "source": [
        "plt.figure(figsize = (10, 5))\n",
        "sns.boxplot(x = 'furnishingstatus', y = 'price', hue = 'airconditioning', data = housing)\n",
        "plt.show()"
      ],
      "metadata": {
        "_uuid": "437223279fb56d4c9c3b5905f0f2ed0f0fd69577",
        "execution": {
          "iopub.status.busy": "2024-06-02T15:47:17.740657Z",
          "iopub.execute_input": "2024-06-02T15:47:17.741045Z",
          "iopub.status.idle": "2024-06-02T15:47:18.102793Z",
          "shell.execute_reply.started": "2024-06-02T15:47:17.740976Z",
          "shell.execute_reply": "2024-06-02T15:47:18.102116Z"
        },
        "trusted": true,
        "id": "nyJFrVfWpXy5"
      },
      "execution_count": null,
      "outputs": []
    },
    {
      "cell_type": "markdown",
      "source": [
        "## Data Preparation"
      ],
      "metadata": {
        "_uuid": "d9889ec8b63eadf25022ac9b928ea02e608e683e",
        "id": "eaaKB14bpXy6"
      }
    },
    {
      "cell_type": "code",
      "source": [
        "# List of variables to map\n",
        "\n",
        "varlist =  ['mainroad', 'guestroom', 'basement', 'hotwaterheating', 'airconditioning', 'prefarea']\n",
        "\n",
        "# Defining the map function\n",
        "def binary_map(x):\n",
        "    return x.map({'yes': 1, \"no\": 0})\n",
        "\n",
        "# Applying the function to the housing list\n",
        "housing[varlist] = housing[varlist].apply(binary_map)"
      ],
      "metadata": {
        "_uuid": "ffa2c206d63c0bbe25355bdbc6b4ff7a78721c20",
        "execution": {
          "iopub.status.busy": "2024-06-02T15:47:18.103882Z",
          "iopub.execute_input": "2024-06-02T15:47:18.104349Z",
          "iopub.status.idle": "2024-06-02T15:47:18.218345Z",
          "shell.execute_reply.started": "2024-06-02T15:47:18.104284Z",
          "shell.execute_reply": "2024-06-02T15:47:18.21742Z"
        },
        "trusted": true,
        "id": "F1tjgLcrpXy6"
      },
      "execution_count": null,
      "outputs": []
    },
    {
      "cell_type": "code",
      "source": [
        "# Check the housing dataframe now\n",
        "\n",
        "housing.head()"
      ],
      "metadata": {
        "_uuid": "d754048ba7fe30841f92073ea8b59d7fcad4a6ce",
        "execution": {
          "iopub.status.busy": "2024-06-02T15:47:18.220229Z",
          "iopub.execute_input": "2024-06-02T15:47:18.220546Z",
          "iopub.status.idle": "2024-06-02T15:47:18.253676Z",
          "shell.execute_reply.started": "2024-06-02T15:47:18.220484Z",
          "shell.execute_reply": "2024-06-02T15:47:18.25271Z"
        },
        "trusted": true,
        "id": "e-TEFtMwpXy6"
      },
      "execution_count": null,
      "outputs": []
    },
    {
      "cell_type": "markdown",
      "source": [
        "### Dummy Variables"
      ],
      "metadata": {
        "_uuid": "a0f8c8376ce5a8d6d8c1c783ec9f7a0e627eeefc",
        "id": "TqdoyP4BpXy7"
      }
    },
    {
      "cell_type": "markdown",
      "source": [
        "The variable `furnishingstatus` has three levels. We need to convert these levels into integer as well.\n",
        "\n",
        "For this, we will use something called `dummy variables`."
      ],
      "metadata": {
        "_uuid": "5100d00d83ce73a66afc490280dc00d852cc2f92",
        "id": "uJq2evNApXy7"
      }
    },
    {
      "cell_type": "code",
      "source": [
        "# Get the dummy variables for the feature 'furnishingstatus' and store it in a new variable - 'status'\n",
        "status = pd.get_dummies(housing['furnishingstatus'])"
      ],
      "metadata": {
        "_uuid": "e57564544b89f851ca2536d5d0cf8f71b7d2f8af",
        "execution": {
          "iopub.status.busy": "2024-06-02T15:47:18.254985Z",
          "iopub.execute_input": "2024-06-02T15:47:18.25526Z",
          "iopub.status.idle": "2024-06-02T15:47:18.260795Z",
          "shell.execute_reply.started": "2024-06-02T15:47:18.25521Z",
          "shell.execute_reply": "2024-06-02T15:47:18.259552Z"
        },
        "trusted": true,
        "id": "qMm1MJXEpXy8"
      },
      "execution_count": null,
      "outputs": []
    },
    {
      "cell_type": "code",
      "source": [
        "# Check what the dataset 'status' looks like\n",
        "status.head()"
      ],
      "metadata": {
        "_uuid": "3cb5808e2eb979d654827bc727ba28fffcfc5bd6",
        "execution": {
          "iopub.status.busy": "2024-06-02T15:47:18.262098Z",
          "iopub.execute_input": "2024-06-02T15:47:18.262427Z",
          "iopub.status.idle": "2024-06-02T15:47:18.283049Z",
          "shell.execute_reply.started": "2024-06-02T15:47:18.262369Z",
          "shell.execute_reply": "2024-06-02T15:47:18.282093Z"
        },
        "trusted": true,
        "id": "nJTfi60hpXy8"
      },
      "execution_count": null,
      "outputs": []
    },
    {
      "cell_type": "code",
      "source": [
        "# Let's drop the first column from status df using 'drop_first = True'\n",
        "\n",
        "status = pd.get_dummies(housing['furnishingstatus'], drop_first = True)"
      ],
      "metadata": {
        "_uuid": "2e64521e0eb959791a7e867dec83c6f2a0b5ba38",
        "execution": {
          "iopub.status.busy": "2024-06-02T15:47:18.284651Z",
          "iopub.execute_input": "2024-06-02T15:47:18.284967Z",
          "iopub.status.idle": "2024-06-02T15:47:18.295238Z",
          "shell.execute_reply.started": "2024-06-02T15:47:18.2849Z",
          "shell.execute_reply": "2024-06-02T15:47:18.294139Z"
        },
        "trusted": true,
        "id": "YY2eLcmfpXy8"
      },
      "execution_count": null,
      "outputs": []
    },
    {
      "cell_type": "code",
      "source": [
        "# Add the results to the original housing dataframe\n",
        "\n",
        "housing = pd.concat([housing, status], axis = 1)"
      ],
      "metadata": {
        "_uuid": "1b9198d2b8e96ae31ee346058d91d293e2826e14",
        "execution": {
          "iopub.status.busy": "2024-06-02T15:47:18.296619Z",
          "iopub.execute_input": "2024-06-02T15:47:18.296975Z",
          "iopub.status.idle": "2024-06-02T15:47:18.309102Z",
          "shell.execute_reply.started": "2024-06-02T15:47:18.296881Z",
          "shell.execute_reply": "2024-06-02T15:47:18.308058Z"
        },
        "trusted": true,
        "id": "Ef5WgueFpXy9"
      },
      "execution_count": null,
      "outputs": []
    },
    {
      "cell_type": "code",
      "source": [
        "# Now let's see the head of our dataframe.\n",
        "\n",
        "housing.head()"
      ],
      "metadata": {
        "_uuid": "202e9fe9bc947dd1ed20afe6a1dfdd3a1a91ed96",
        "execution": {
          "iopub.status.busy": "2024-06-02T15:47:18.310788Z",
          "iopub.execute_input": "2024-06-02T15:47:18.311219Z",
          "iopub.status.idle": "2024-06-02T15:47:18.346864Z",
          "shell.execute_reply.started": "2024-06-02T15:47:18.311103Z",
          "shell.execute_reply": "2024-06-02T15:47:18.345792Z"
        },
        "trusted": true,
        "id": "egds5_1dpXy9"
      },
      "execution_count": null,
      "outputs": []
    },
    {
      "cell_type": "code",
      "source": [
        "# Drop 'furnishingstatus' as we have created the dummies for it\n",
        "\n",
        "housing.drop(['furnishingstatus'], axis = 1, inplace = True)"
      ],
      "metadata": {
        "_uuid": "30d3b04cf9943a6ae45c51d0a4d897dc4a014bf6",
        "execution": {
          "iopub.status.busy": "2024-06-02T15:47:18.348298Z",
          "iopub.execute_input": "2024-06-02T15:47:18.348746Z",
          "iopub.status.idle": "2024-06-02T15:47:18.359089Z",
          "shell.execute_reply.started": "2024-06-02T15:47:18.348666Z",
          "shell.execute_reply": "2024-06-02T15:47:18.358316Z"
        },
        "trusted": true,
        "id": "4y6HMK5wpXy9"
      },
      "execution_count": null,
      "outputs": []
    },
    {
      "cell_type": "code",
      "source": [
        "housing.head()"
      ],
      "metadata": {
        "_uuid": "6387630eca0184a51e3f1ff784dee84fa54bb109",
        "execution": {
          "iopub.status.busy": "2024-06-02T15:47:18.360517Z",
          "iopub.execute_input": "2024-06-02T15:47:18.360784Z",
          "iopub.status.idle": "2024-06-02T15:47:18.400639Z",
          "shell.execute_reply.started": "2024-06-02T15:47:18.360734Z",
          "shell.execute_reply": "2024-06-02T15:47:18.399628Z"
        },
        "trusted": true,
        "id": "RVluWJNcpXy-"
      },
      "execution_count": null,
      "outputs": []
    },
    {
      "cell_type": "markdown",
      "source": [
        "### Splitting the Data into Training and Testing Sets"
      ],
      "metadata": {
        "_uuid": "837091e7d8ac08f881d1d1b6ed57ec6d1e806165",
        "id": "BixEkoXUpXy-"
      }
    },
    {
      "cell_type": "code",
      "source": [
        "from sklearn.model_selection import train_test_split\n",
        "\n",
        "# We specify this so that the train and test data set always have the same rows, respectively\n",
        "np.random.seed(0)\n",
        "df_train, df_test = train_test_split(housing, train_size = 0.7, test_size = 0.3, random_state = 100)"
      ],
      "metadata": {
        "_uuid": "5449ca9587bd949ebc3cc166122fcf733b8eb2f9",
        "execution": {
          "iopub.status.busy": "2024-06-02T15:47:18.402404Z",
          "iopub.execute_input": "2024-06-02T15:47:18.402801Z",
          "iopub.status.idle": "2024-06-02T15:47:18.415053Z",
          "shell.execute_reply.started": "2024-06-02T15:47:18.402733Z",
          "shell.execute_reply": "2024-06-02T15:47:18.41386Z"
        },
        "trusted": true,
        "id": "Bf9jyaorpXy-"
      },
      "execution_count": null,
      "outputs": []
    },
    {
      "cell_type": "code",
      "source": [
        "from sklearn.preprocessing import MinMaxScaler"
      ],
      "metadata": {
        "_uuid": "facade72a50104e04437fd7bd7191a23713fc8ea",
        "execution": {
          "iopub.status.busy": "2024-06-02T15:47:18.416821Z",
          "iopub.execute_input": "2024-06-02T15:47:18.417242Z",
          "iopub.status.idle": "2024-06-02T15:47:18.427324Z",
          "shell.execute_reply.started": "2024-06-02T15:47:18.417156Z",
          "shell.execute_reply": "2024-06-02T15:47:18.426425Z"
        },
        "trusted": true,
        "id": "TWcCLmEOpXy_"
      },
      "execution_count": null,
      "outputs": []
    },
    {
      "cell_type": "code",
      "source": [
        "scaler = MinMaxScaler()"
      ],
      "metadata": {
        "_uuid": "3f4c69929aaf26f7aee879139814b027eae01798",
        "execution": {
          "iopub.status.busy": "2024-06-02T15:47:18.429205Z",
          "iopub.execute_input": "2024-06-02T15:47:18.429557Z",
          "iopub.status.idle": "2024-06-02T15:47:18.443564Z",
          "shell.execute_reply.started": "2024-06-02T15:47:18.429487Z",
          "shell.execute_reply": "2024-06-02T15:47:18.442393Z"
        },
        "trusted": true,
        "id": "LeH3xiUipXzK"
      },
      "execution_count": null,
      "outputs": []
    },
    {
      "cell_type": "code",
      "source": [
        "# Apply scaler() to all the columns except the 'yes-no' and 'dummy' variables\n",
        "num_vars = ['area', 'bedrooms', 'bathrooms', 'stories', 'parking','price']\n",
        "\n",
        "df_train[num_vars] = scaler.fit_transform(df_train[num_vars])"
      ],
      "metadata": {
        "_uuid": "91c50ab11758f9e3a7905fd689641f8f003860c8",
        "execution": {
          "iopub.status.busy": "2024-06-02T15:47:18.44503Z",
          "iopub.execute_input": "2024-06-02T15:47:18.445357Z",
          "iopub.status.idle": "2024-06-02T15:47:19.02185Z",
          "shell.execute_reply.started": "2024-06-02T15:47:18.445297Z",
          "shell.execute_reply": "2024-06-02T15:47:19.021072Z"
        },
        "trusted": true,
        "id": "HpxMIz0npXzL"
      },
      "execution_count": null,
      "outputs": []
    },
    {
      "cell_type": "code",
      "source": [
        "df_train.head()"
      ],
      "metadata": {
        "_uuid": "80202e0393e84a01949522f8809bce181a08d84a",
        "execution": {
          "iopub.status.busy": "2024-06-02T15:47:19.023313Z",
          "iopub.execute_input": "2024-06-02T15:47:19.023664Z",
          "iopub.status.idle": "2024-06-02T15:47:19.060483Z",
          "shell.execute_reply.started": "2024-06-02T15:47:19.023598Z",
          "shell.execute_reply": "2024-06-02T15:47:19.059403Z"
        },
        "trusted": true,
        "id": "oNx71-kVpXzL"
      },
      "execution_count": null,
      "outputs": []
    },
    {
      "cell_type": "code",
      "source": [
        "df_train.describe()"
      ],
      "metadata": {
        "_uuid": "0578a4dfe42b2b1a741e847e00b6bdcc5323156e",
        "execution": {
          "iopub.status.busy": "2024-06-02T15:47:19.061851Z",
          "iopub.execute_input": "2024-06-02T15:47:19.062178Z",
          "iopub.status.idle": "2024-06-02T15:47:19.140103Z",
          "shell.execute_reply.started": "2024-06-02T15:47:19.06211Z",
          "shell.execute_reply": "2024-06-02T15:47:19.139177Z"
        },
        "trusted": true,
        "id": "a4NPN3g1pXzM"
      },
      "execution_count": null,
      "outputs": []
    },
    {
      "cell_type": "code",
      "source": [
        "# Let's check the correlation coefficients to see which variables are highly correlated\n",
        "\n",
        "plt.figure(figsize = (16, 10))\n",
        "sns.heatmap(df_train.corr(), annot = True, cmap=\"YlGnBu\")\n",
        "plt.show()"
      ],
      "metadata": {
        "_uuid": "daad7f09168cddb4272fd0f10395aac2cc2cecf2",
        "execution": {
          "iopub.status.busy": "2024-06-02T15:47:19.141584Z",
          "iopub.execute_input": "2024-06-02T15:47:19.141875Z",
          "iopub.status.idle": "2024-06-02T15:47:20.194519Z",
          "shell.execute_reply.started": "2024-06-02T15:47:19.141825Z",
          "shell.execute_reply": "2024-06-02T15:47:20.19352Z"
        },
        "trusted": true,
        "id": "HQz3Xf5TpXzN"
      },
      "execution_count": null,
      "outputs": []
    },
    {
      "cell_type": "markdown",
      "source": [
        "As you might have noticed, `area` seems to the correlated to `price` the most. Let's see a pairplot for `area` vs `price`."
      ],
      "metadata": {
        "_uuid": "262156ecb629391512238b83b03a89c8ebdb504f",
        "id": "GrU3MCeMpXzN"
      }
    },
    {
      "cell_type": "markdown",
      "source": [
        "### Dividing into X and Y sets for the model building"
      ],
      "metadata": {
        "_uuid": "8b7a573b3de7738aca7829dbf4c1b41fa666d47e",
        "id": "kjnspHulpXzO"
      }
    },
    {
      "cell_type": "code",
      "source": [
        "y_train = df_train.pop('price')\n",
        "X_train = df_train\n",
        "#used the data frame pop to pop the price"
      ],
      "metadata": {
        "_uuid": "8d461aa6a96a85e680fa73c706d0e440c9147322",
        "execution": {
          "iopub.status.busy": "2024-06-02T15:47:20.195742Z",
          "iopub.execute_input": "2024-06-02T15:47:20.196073Z",
          "iopub.status.idle": "2024-06-02T15:47:20.201471Z",
          "shell.execute_reply.started": "2024-06-02T15:47:20.195984Z",
          "shell.execute_reply": "2024-06-02T15:47:20.200174Z"
        },
        "trusted": true,
        "id": "K0_mUjvNpXzO"
      },
      "execution_count": null,
      "outputs": []
    },
    {
      "cell_type": "markdown",
      "source": [
        "## Model Building"
      ],
      "metadata": {
        "_uuid": "cde8d33f5a71cab0d31cccd80c91542783fb7090",
        "id": "sGSlDvWlpXzO"
      }
    },
    {
      "cell_type": "code",
      "source": [
        "# Importing RFE and LinearRegression\n",
        "from sklearn.feature_selection import RFE\n",
        "from sklearn.linear_model import LinearRegression"
      ],
      "metadata": {
        "_uuid": "15f69354ac60bbc21b8765f713c6bac720909a69",
        "execution": {
          "iopub.status.busy": "2024-06-02T15:47:20.203422Z",
          "iopub.execute_input": "2024-06-02T15:47:20.20404Z",
          "iopub.status.idle": "2024-06-02T15:47:20.214458Z",
          "shell.execute_reply.started": "2024-06-02T15:47:20.203727Z",
          "shell.execute_reply": "2024-06-02T15:47:20.213401Z"
        },
        "trusted": true,
        "id": "0tHsZEFbpXzP"
      },
      "execution_count": null,
      "outputs": []
    },
    {
      "cell_type": "code",
      "source": [
        "# Running RFE with the output number of the variable equal to 10\n",
        "lm = LinearRegression()\n",
        "lm.fit(X_train, y_train)"
      ],
      "metadata": {
        "_uuid": "0855894d7a3314cdc687f1e6071b9561bd42a8bd",
        "execution": {
          "iopub.status.busy": "2024-06-02T15:47:20.215874Z",
          "iopub.execute_input": "2024-06-02T15:47:20.216252Z",
          "iopub.status.idle": "2024-06-02T15:47:20.232512Z",
          "shell.execute_reply.started": "2024-06-02T15:47:20.216176Z",
          "shell.execute_reply": "2024-06-02T15:47:20.231343Z"
        },
        "trusted": true,
        "id": "kNoim5B3pXzP"
      },
      "execution_count": null,
      "outputs": []
    },
    {
      "cell_type": "code",
      "source": [
        "rfe = RFE(lm, 6)             # running RFE\n",
        "rfe = rfe.fit(X_train, y_train)"
      ],
      "metadata": {
        "_uuid": "b90e694cc030855fad26f5254a3b6b2115ecfb72",
        "execution": {
          "iopub.status.busy": "2024-06-02T15:47:20.234361Z",
          "iopub.execute_input": "2024-06-02T15:47:20.234682Z",
          "iopub.status.idle": "2024-06-02T15:47:20.266681Z",
          "shell.execute_reply.started": "2024-06-02T15:47:20.234635Z",
          "shell.execute_reply": "2024-06-02T15:47:20.265495Z"
        },
        "trusted": true,
        "id": "v-eB9kF8pXzQ"
      },
      "execution_count": null,
      "outputs": []
    },
    {
      "cell_type": "code",
      "source": [
        "list(zip(X_train.columns,rfe.support_,rfe.ranking_))"
      ],
      "metadata": {
        "_uuid": "35bcd6f28ff5e9e597cc0c9bbdda32460f6f7d3d",
        "execution": {
          "iopub.status.busy": "2024-06-02T15:47:20.268567Z",
          "iopub.execute_input": "2024-06-02T15:47:20.269149Z",
          "iopub.status.idle": "2024-06-02T15:47:20.277479Z",
          "shell.execute_reply.started": "2024-06-02T15:47:20.269088Z",
          "shell.execute_reply": "2024-06-02T15:47:20.276392Z"
        },
        "trusted": true,
        "id": "POF7uycCpXzQ"
      },
      "execution_count": null,
      "outputs": []
    },
    {
      "cell_type": "code",
      "source": [
        "col = X_train.columns[rfe.support_]\n",
        "col"
      ],
      "metadata": {
        "_uuid": "0e0c0316b3e26b0cb0a0dfa047364b5db008d172",
        "execution": {
          "iopub.status.busy": "2024-06-02T15:47:20.279824Z",
          "iopub.execute_input": "2024-06-02T15:47:20.280625Z",
          "iopub.status.idle": "2024-06-02T15:47:20.290765Z",
          "shell.execute_reply.started": "2024-06-02T15:47:20.280447Z",
          "shell.execute_reply": "2024-06-02T15:47:20.290041Z"
        },
        "trusted": true,
        "id": "TgugM17kpXzQ"
      },
      "execution_count": null,
      "outputs": []
    },
    {
      "cell_type": "code",
      "source": [
        "X_train.columns[~rfe.support_]"
      ],
      "metadata": {
        "_uuid": "6ed23a57c9d3fd16c47987c9efc868cb26e46f7f",
        "execution": {
          "iopub.status.busy": "2024-06-02T15:47:20.292302Z",
          "iopub.execute_input": "2024-06-02T15:47:20.292569Z",
          "iopub.status.idle": "2024-06-02T15:47:20.301794Z",
          "shell.execute_reply.started": "2024-06-02T15:47:20.292516Z",
          "shell.execute_reply": "2024-06-02T15:47:20.301026Z"
        },
        "trusted": true,
        "id": "dZotBa8rpXzR"
      },
      "execution_count": null,
      "outputs": []
    },
    {
      "cell_type": "markdown",
      "source": [
        "### Building model using statsmodel, for the detailed statistics"
      ],
      "metadata": {
        "_uuid": "9dd20434f604066af48b392196e3c3fa98a1444e",
        "id": "EJlASmNqpXzR"
      }
    },
    {
      "cell_type": "code",
      "source": [
        "# Creating X_test dataframe with RFE selected variables\n",
        "X_train_rfe = X_train[col]"
      ],
      "metadata": {
        "_uuid": "9a0392e0e603fc5be49e59cc6cf9c49b22fd6636",
        "execution": {
          "iopub.status.busy": "2024-06-02T15:47:20.30344Z",
          "iopub.execute_input": "2024-06-02T15:47:20.303794Z",
          "iopub.status.idle": "2024-06-02T15:47:20.312763Z",
          "shell.execute_reply.started": "2024-06-02T15:47:20.303724Z",
          "shell.execute_reply": "2024-06-02T15:47:20.3118Z"
        },
        "trusted": true,
        "id": "N-wDlQ-xpXzS"
      },
      "execution_count": null,
      "outputs": []
    },
    {
      "cell_type": "code",
      "source": [
        "# Adding a constant variable\n",
        "import statsmodels.api as sm\n",
        "X_train_rfe = sm.add_constant(X_train_rfe)"
      ],
      "metadata": {
        "_uuid": "e97c23ab5f5c3cadbdc003bb0ae6516b80ee8eec",
        "execution": {
          "iopub.status.busy": "2024-06-02T15:47:20.314145Z",
          "iopub.execute_input": "2024-06-02T15:47:20.314449Z",
          "iopub.status.idle": "2024-06-02T15:47:20.329322Z",
          "shell.execute_reply.started": "2024-06-02T15:47:20.314388Z",
          "shell.execute_reply": "2024-06-02T15:47:20.328429Z"
        },
        "trusted": true,
        "id": "3JLTyOMbpXzS"
      },
      "execution_count": null,
      "outputs": []
    },
    {
      "cell_type": "code",
      "source": [
        "lm = sm.OLS(y_train,X_train_rfe).fit()   # Running the linear model"
      ],
      "metadata": {
        "_uuid": "8ad33909ce0fe7cbadc46d09ab8d32cad45f9e4a",
        "execution": {
          "iopub.status.busy": "2024-06-02T15:47:20.330761Z",
          "iopub.execute_input": "2024-06-02T15:47:20.331186Z",
          "iopub.status.idle": "2024-06-02T15:47:20.33969Z",
          "shell.execute_reply.started": "2024-06-02T15:47:20.331066Z",
          "shell.execute_reply": "2024-06-02T15:47:20.338718Z"
        },
        "trusted": true,
        "id": "cFqN2oUspXzT"
      },
      "execution_count": null,
      "outputs": []
    },
    {
      "cell_type": "code",
      "source": [
        "#Let's see the summary of our linear model\n",
        "print(lm.summary())"
      ],
      "metadata": {
        "_uuid": "f117337580f3eaf3e3bd6b3e8947d023499f56c7",
        "execution": {
          "iopub.status.busy": "2024-06-02T15:47:20.340929Z",
          "iopub.execute_input": "2024-06-02T15:47:20.341256Z",
          "iopub.status.idle": "2024-06-02T15:47:20.362477Z",
          "shell.execute_reply.started": "2024-06-02T15:47:20.341198Z",
          "shell.execute_reply": "2024-06-02T15:47:20.361145Z"
        },
        "trusted": true,
        "id": "lFN8nmTapXzT"
      },
      "execution_count": null,
      "outputs": []
    },
    {
      "cell_type": "code",
      "source": [
        "# Calculate the VIFs for the model\n",
        "from statsmodels.stats.outliers_influence import variance_inflation_factor"
      ],
      "metadata": {
        "_uuid": "e311b4572715c8c90511b0b67d63618933ee003b",
        "execution": {
          "iopub.status.busy": "2024-06-02T15:47:20.363841Z",
          "iopub.execute_input": "2024-06-02T15:47:20.364168Z",
          "iopub.status.idle": "2024-06-02T15:47:20.369108Z",
          "shell.execute_reply.started": "2024-06-02T15:47:20.364105Z",
          "shell.execute_reply": "2024-06-02T15:47:20.368334Z"
        },
        "trusted": true,
        "id": "h3Nc3XHopXzU"
      },
      "execution_count": null,
      "outputs": []
    },
    {
      "cell_type": "code",
      "source": [
        "vif = pd.DataFrame()\n",
        "X = X_train_rfe\n",
        "vif['Features'] = X.columns\n",
        "vif['VIF'] = [variance_inflation_factor(X.values, i) for i in range(X.shape[1])]\n",
        "vif['VIF'] = round(vif['VIF'], 2)\n",
        "vif = vif.sort_values(by = \"VIF\", ascending = False)\n",
        "vif"
      ],
      "metadata": {
        "_uuid": "77684badbfb8b6d35a1af6a7f6e6a90f694b9cde",
        "execution": {
          "iopub.status.busy": "2024-06-02T15:47:20.370605Z",
          "iopub.execute_input": "2024-06-02T15:47:20.370846Z",
          "iopub.status.idle": "2024-06-02T15:47:20.401738Z",
          "shell.execute_reply.started": "2024-06-02T15:47:20.370801Z",
          "shell.execute_reply": "2024-06-02T15:47:20.400901Z"
        },
        "trusted": true,
        "id": "_md0Ciy3pXzU"
      },
      "execution_count": null,
      "outputs": []
    },
    {
      "cell_type": "markdown",
      "source": [
        "## Residual Analysis of the train data"
      ],
      "metadata": {
        "_uuid": "929bfe56bbc1c23f9c4069acce30593044af093d",
        "id": "KuU8m-jGpXzU"
      }
    },
    {
      "cell_type": "markdown",
      "source": [
        "So, now to check if the error terms are also normally distributed (which is infact, one of the major assumptions of linear regression), let us plot the histogram of the error terms and see what it looks like."
      ],
      "metadata": {
        "_uuid": "848c69f31ac4b52bf81ce2f4fdafbf9b4b4fba37",
        "id": "a-4WpOQupXzV"
      }
    },
    {
      "cell_type": "code",
      "source": [
        "y_train_price = lm.predict(X_train_rfe)"
      ],
      "metadata": {
        "_uuid": "ea322f903d893af55c8ce74af23ad9da69297296",
        "execution": {
          "iopub.status.busy": "2024-06-02T15:47:20.403672Z",
          "iopub.execute_input": "2024-06-02T15:47:20.404044Z",
          "iopub.status.idle": "2024-06-02T15:47:20.408674Z",
          "shell.execute_reply.started": "2024-06-02T15:47:20.403974Z",
          "shell.execute_reply": "2024-06-02T15:47:20.407605Z"
        },
        "trusted": true,
        "id": "nySILP3ipXzV"
      },
      "execution_count": null,
      "outputs": []
    },
    {
      "cell_type": "code",
      "source": [
        "res = (y_train_price - y_train)"
      ],
      "metadata": {
        "_uuid": "0dfe7cfd174b675cc86f03f19cebf5c3aee750b7",
        "execution": {
          "iopub.status.busy": "2024-06-02T15:47:20.410071Z",
          "iopub.execute_input": "2024-06-02T15:47:20.41034Z",
          "iopub.status.idle": "2024-06-02T15:47:20.420147Z",
          "shell.execute_reply.started": "2024-06-02T15:47:20.410294Z",
          "shell.execute_reply": "2024-06-02T15:47:20.419081Z"
        },
        "trusted": true,
        "id": "KAOeDnJUpXzV"
      },
      "execution_count": null,
      "outputs": []
    },
    {
      "cell_type": "code",
      "source": [
        "# Importing the required libraries for plots.\n",
        "import matplotlib.pyplot as plt\n",
        "import seaborn as sns\n",
        "%matplotlib inline"
      ],
      "metadata": {
        "_uuid": "ab7df18b1e1e01bb58d7d5322b9be3429ca58ae1",
        "execution": {
          "iopub.status.busy": "2024-06-02T15:47:20.421521Z",
          "iopub.execute_input": "2024-06-02T15:47:20.421914Z",
          "iopub.status.idle": "2024-06-02T15:47:20.432088Z",
          "shell.execute_reply.started": "2024-06-02T15:47:20.421821Z",
          "shell.execute_reply": "2024-06-02T15:47:20.431239Z"
        },
        "trusted": true,
        "id": "Bn9R5DAYpXzW"
      },
      "execution_count": null,
      "outputs": []
    },
    {
      "cell_type": "code",
      "source": [
        "# Plot the histogram of the error terms\n",
        "fig = plt.figure()\n",
        "sns.distplot((y_train - y_train_price), bins = 20)\n",
        "fig.suptitle('Error Terms', fontsize = 20)                  # Plot heading\n",
        "plt.xlabel('Errors', fontsize = 18)                         # X-label"
      ],
      "metadata": {
        "scrolled": true,
        "_uuid": "6c88bec7ff0f3264d1fcfdce138b657fbc87732a",
        "execution": {
          "iopub.status.busy": "2024-06-02T15:47:20.433706Z",
          "iopub.execute_input": "2024-06-02T15:47:20.434033Z",
          "iopub.status.idle": "2024-06-02T15:47:20.652176Z",
          "shell.execute_reply.started": "2024-06-02T15:47:20.433967Z",
          "shell.execute_reply": "2024-06-02T15:47:20.65121Z"
        },
        "trusted": true,
        "id": "PxTkQej4pXzY"
      },
      "execution_count": null,
      "outputs": []
    },
    {
      "cell_type": "code",
      "source": [
        "plt.scatter(y_train,res)\n",
        "plt.show()"
      ],
      "metadata": {
        "_uuid": "fc5970cce08cf1588b50049536ed59add70ab46e",
        "execution": {
          "iopub.status.busy": "2024-06-02T15:47:20.65366Z",
          "iopub.execute_input": "2024-06-02T15:47:20.654034Z",
          "iopub.status.idle": "2024-06-02T15:47:20.795372Z",
          "shell.execute_reply.started": "2024-06-02T15:47:20.653969Z",
          "shell.execute_reply": "2024-06-02T15:47:20.794359Z"
        },
        "trusted": true,
        "id": "inOaOViapXzZ"
      },
      "execution_count": null,
      "outputs": []
    },
    {
      "cell_type": "code",
      "source": [
        "# There may be some relation in the error terms."
      ],
      "metadata": {
        "_uuid": "833b7f1da0f80b0f5b8e8acd8c1c58ae672a25e3",
        "execution": {
          "iopub.status.busy": "2024-06-02T15:47:20.796766Z",
          "iopub.execute_input": "2024-06-02T15:47:20.797118Z",
          "iopub.status.idle": "2024-06-02T15:47:20.803265Z",
          "shell.execute_reply.started": "2024-06-02T15:47:20.797058Z",
          "shell.execute_reply": "2024-06-02T15:47:20.802046Z"
        },
        "trusted": true,
        "id": "77PbDdGppXza"
      },
      "execution_count": null,
      "outputs": []
    },
    {
      "cell_type": "markdown",
      "source": [
        "## Model Evaluation"
      ],
      "metadata": {
        "_uuid": "6ab0d38a9e8f4e1ac3522265272378670317e2a0",
        "id": "EEI-YXtipXza"
      }
    },
    {
      "cell_type": "markdown",
      "source": [
        "#### Applying the scaling on the test sets"
      ],
      "metadata": {
        "_uuid": "45b3cacf9af65798f6aa2043c9938ac7be66cc2d",
        "id": "gSlQNbW6pXzb"
      }
    },
    {
      "cell_type": "code",
      "source": [
        "num_vars = ['area','stories', 'bathrooms', 'airconditioning', 'prefarea','parking','price']"
      ],
      "metadata": {
        "_uuid": "18dc79e154426089b57bc592cbf9c7c9d4f9f925",
        "execution": {
          "iopub.status.busy": "2024-06-02T15:47:20.804588Z",
          "iopub.execute_input": "2024-06-02T15:47:20.80491Z",
          "iopub.status.idle": "2024-06-02T15:47:20.813304Z",
          "shell.execute_reply.started": "2024-06-02T15:47:20.804844Z",
          "shell.execute_reply": "2024-06-02T15:47:20.81249Z"
        },
        "trusted": true,
        "id": "uXuM5_pTpXzb"
      },
      "execution_count": null,
      "outputs": []
    },
    {
      "cell_type": "code",
      "source": [
        "df_test[num_vars] = scaler.fit_transform(df_test[num_vars])"
      ],
      "metadata": {
        "_uuid": "369940e6dcf9b0a2e37418d68b0b03474c2a23df",
        "execution": {
          "iopub.status.busy": "2024-06-02T15:47:20.814578Z",
          "iopub.execute_input": "2024-06-02T15:47:20.815021Z",
          "iopub.status.idle": "2024-06-02T15:47:21.503902Z",
          "shell.execute_reply.started": "2024-06-02T15:47:20.814948Z",
          "shell.execute_reply": "2024-06-02T15:47:21.503087Z"
        },
        "trusted": true,
        "id": "8_GuZC05pXzb"
      },
      "execution_count": null,
      "outputs": []
    },
    {
      "cell_type": "code",
      "source": [
        "df_test.describe()"
      ],
      "metadata": {
        "execution": {
          "iopub.status.busy": "2024-06-02T15:53:43.082583Z",
          "iopub.execute_input": "2024-06-02T15:53:43.082927Z",
          "iopub.status.idle": "2024-06-02T15:53:43.155227Z",
          "shell.execute_reply.started": "2024-06-02T15:53:43.082866Z",
          "shell.execute_reply": "2024-06-02T15:53:43.154384Z"
        },
        "trusted": true,
        "id": "EGjM0Nw6pXzc"
      },
      "execution_count": null,
      "outputs": []
    },
    {
      "cell_type": "markdown",
      "source": [
        "#### Dividing into X_test and y_test"
      ],
      "metadata": {
        "_uuid": "a4878645a8b2dea09fef010e81dc3ad1f5024aa6",
        "id": "cnFg9EPTpXzc"
      }
    },
    {
      "cell_type": "code",
      "source": [
        "y_test = df_test.pop('price')\n",
        "X_test = df_test"
      ],
      "metadata": {
        "_uuid": "7374561e97f330101662ada491c40ea47addd7cc",
        "execution": {
          "iopub.status.busy": "2024-06-02T15:47:21.505194Z",
          "iopub.execute_input": "2024-06-02T15:47:21.505445Z",
          "iopub.status.idle": "2024-06-02T15:47:21.510036Z",
          "shell.execute_reply.started": "2024-06-02T15:47:21.5054Z",
          "shell.execute_reply": "2024-06-02T15:47:21.509056Z"
        },
        "trusted": true,
        "id": "YoSz8PRbpXzd"
      },
      "execution_count": null,
      "outputs": []
    },
    {
      "cell_type": "code",
      "source": [
        "# Adding constant variable to test dataframe\n",
        "X_test = sm.add_constant(X_test)"
      ],
      "metadata": {
        "_uuid": "1d36fa795be13df3abd528745d2003f15165793e",
        "execution": {
          "iopub.status.busy": "2024-06-02T15:47:21.511363Z",
          "iopub.execute_input": "2024-06-02T15:47:21.511638Z",
          "iopub.status.idle": "2024-06-02T15:47:21.528445Z",
          "shell.execute_reply.started": "2024-06-02T15:47:21.511586Z",
          "shell.execute_reply": "2024-06-02T15:47:21.527531Z"
        },
        "trusted": true,
        "id": "BN658V4epXzd"
      },
      "execution_count": null,
      "outputs": []
    },
    {
      "cell_type": "code",
      "source": [
        "# Now let's use our model to make predictions."
      ],
      "metadata": {
        "_uuid": "2adbc1f44001b942ed5110e4323e8cf00c7ea139",
        "execution": {
          "iopub.status.busy": "2024-06-02T15:47:21.529534Z",
          "iopub.execute_input": "2024-06-02T15:47:21.529812Z",
          "iopub.status.idle": "2024-06-02T15:47:21.540405Z",
          "shell.execute_reply.started": "2024-06-02T15:47:21.529759Z",
          "shell.execute_reply": "2024-06-02T15:47:21.53947Z"
        },
        "trusted": true,
        "id": "mWzaStVppXzd"
      },
      "execution_count": null,
      "outputs": []
    },
    {
      "cell_type": "code",
      "source": [
        "# Creating X_test_new dataframe by dropping variables from X_test\n",
        "X_test_rfe = X_test[X_train_rfe.columns]"
      ],
      "metadata": {
        "_uuid": "cf0bfd37ba6988b7bbf450bdf9ea7072d0fe0e10",
        "execution": {
          "iopub.status.busy": "2024-06-02T15:47:21.541761Z",
          "iopub.execute_input": "2024-06-02T15:47:21.54208Z",
          "iopub.status.idle": "2024-06-02T15:47:21.554086Z",
          "shell.execute_reply.started": "2024-06-02T15:47:21.542032Z",
          "shell.execute_reply": "2024-06-02T15:47:21.553232Z"
        },
        "trusted": true,
        "id": "dvlYsn_4pXze"
      },
      "execution_count": null,
      "outputs": []
    },
    {
      "cell_type": "code",
      "source": [
        "# Making predictions\n",
        "y_pred = lm.predict(X_test_rfe)"
      ],
      "metadata": {
        "_uuid": "a7273e142e5a42104f7b5a0fff4ace465f7ea0b3",
        "execution": {
          "iopub.status.busy": "2024-06-02T15:47:21.555598Z",
          "iopub.execute_input": "2024-06-02T15:47:21.555923Z",
          "iopub.status.idle": "2024-06-02T15:47:21.565514Z",
          "shell.execute_reply.started": "2024-06-02T15:47:21.555841Z",
          "shell.execute_reply": "2024-06-02T15:47:21.564383Z"
        },
        "trusted": true,
        "id": "5pcbCywapXze"
      },
      "execution_count": null,
      "outputs": []
    },
    {
      "cell_type": "code",
      "source": [
        "from sklearn.metrics import r2_score\n",
        "r2_score(y_test, y_pred)"
      ],
      "metadata": {
        "_uuid": "9b8d11e9ed91c84d950ee8584cbd747cfb189457",
        "execution": {
          "iopub.status.busy": "2024-06-02T15:47:21.567424Z",
          "iopub.execute_input": "2024-06-02T15:47:21.567754Z",
          "iopub.status.idle": "2024-06-02T15:47:21.579491Z",
          "shell.execute_reply.started": "2024-06-02T15:47:21.5677Z",
          "shell.execute_reply": "2024-06-02T15:47:21.578369Z"
        },
        "trusted": true,
        "id": "sFXgdh1ipXze"
      },
      "execution_count": null,
      "outputs": []
    },
    {
      "cell_type": "code",
      "source": [
        "# Plotting y_test and y_pred to understand the spread.\n",
        "fig = plt.figure()\n",
        "plt.scatter(y_test,y_pred)\n",
        "fig.suptitle('y_test vs y_pred', fontsize=20)              # Plot heading\n",
        "plt.xlabel('y_test', fontsize=18)                          # X-label\n",
        "plt.ylabel('y_pred', fontsize=16)                          # Y-label"
      ],
      "metadata": {
        "_uuid": "22f7ec00c2e3bfe9d8c00f38dd94fc17e4efe389",
        "execution": {
          "iopub.status.busy": "2024-06-02T15:47:21.580916Z",
          "iopub.execute_input": "2024-06-02T15:47:21.581255Z",
          "iopub.status.idle": "2024-06-02T15:47:21.76775Z",
          "shell.execute_reply.started": "2024-06-02T15:47:21.581192Z",
          "shell.execute_reply": "2024-06-02T15:47:21.766739Z"
        },
        "trusted": true,
        "id": "6Lj09rZwpXzf"
      },
      "execution_count": null,
      "outputs": []
    },
    {
      "cell_type": "markdown",
      "source": [
        "\n",
        "We can see that the equation of our best fitted line is:\n",
        "\n",
        "$ price = 0.35  \\times  area + 0.20  \\times  bathrooms + 0.19 \\times stories+ 0.10 \\times airconditioning + 0.10 \\times parking + 0.11 \\times prefarea $\n"
      ],
      "metadata": {
        "_uuid": "e3ca975a2eef6d3706f69042c0f07f459b7b0459",
        "id": "plR4h9mJpXzf"
      }
    }
  ]
}